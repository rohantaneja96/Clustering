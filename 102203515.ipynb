{
  "nbformat": 4,
  "nbformat_minor": 0,
  "metadata": {
    "colab": {
      "provenance": []
    },
    "kernelspec": {
      "name": "python3",
      "display_name": "Python 3"
    },
    "language_info": {
      "name": "python"
    }
  },
  "cells": [
    {
      "cell_type": "code",
      "execution_count": 8,
      "metadata": {
        "id": "IiU_kg4SkKr8"
      },
      "outputs": [],
      "source": [
        "# Import necessary libraries\n",
        "import pandas as pd\n",
        "import numpy as np\n",
        "from sklearn import datasets\n",
        "from sklearn.preprocessing import StandardScaler\n",
        "from sklearn.decomposition import PCA\n",
        "from sklearn.cluster import KMeans, AgglomerativeClustering, MeanShift\n",
        "from sklearn.metrics import silhouette_score, calinski_harabasz_score, davies_bouldin_score\n"
      ]
    },
    {
      "cell_type": "code",
      "source": [
        "# Load the Iris dataset\n",
        "iris = datasets.load_iris()\n",
        "data = pd.DataFrame(iris.data, columns=iris.feature_names)\n",
        "print(\"Iris Dataset:\")\n",
        "print(data.head())\n"
      ],
      "metadata": {
        "colab": {
          "base_uri": "https://localhost:8080/"
        },
        "id": "KU_XLr9ImCBN",
        "outputId": "05a30929-5df6-4c8c-aa8c-f5576c32cb86"
      },
      "execution_count": 9,
      "outputs": [
        {
          "output_type": "stream",
          "name": "stdout",
          "text": [
            "Iris Dataset:\n",
            "   sepal length (cm)  sepal width (cm)  petal length (cm)  petal width (cm)\n",
            "0                5.1               3.5                1.4               0.2\n",
            "1                4.9               3.0                1.4               0.2\n",
            "2                4.7               3.2                1.3               0.2\n",
            "3                4.6               3.1                1.5               0.2\n",
            "4                5.0               3.6                1.4               0.2\n"
          ]
        }
      ]
    },
    {
      "cell_type": "code",
      "source": [
        "# Normalization\n",
        "scaler = StandardScaler()\n",
        "normalized_data = scaler.fit_transform(data)\n",
        "\n",
        "# PCA\n",
        "pca = PCA(n_components=2)\n",
        "pca_data = pca.fit_transform(data)\n",
        "\n",
        "# Combined Normalization + PCA\n",
        "normalized_pca_data = pca.fit_transform(normalized_data)\n"
      ],
      "metadata": {
        "id": "HSX4gEqymH10"
      },
      "execution_count": 10,
      "outputs": []
    },
    {
      "cell_type": "code",
      "source": [
        "# Define clustering algorithms\n",
        "n_clusters = [3, 4, 5]  # Number of clusters to test\n",
        "results = []\n",
        "\n",
        "for n in n_clusters:\n",
        "    for preprocessing, dataset in [\n",
        "        (\"No Preprocessing\", data.values),\n",
        "        (\"Normalization\", normalized_data),\n",
        "        (\"PCA\", pca_data),\n",
        "        (\"Normalization + PCA\", normalized_pca_data),\n",
        "    ]:\n",
        "        # Apply K-Means Clustering\n",
        "        kmeans = KMeans(n_clusters=n, random_state=42)\n",
        "        kmeans_labels = kmeans.fit_predict(dataset)\n",
        "\n",
        "        # Apply Agglomerative Clustering (Hierarchical)\n",
        "        hierarchical = AgglomerativeClustering(n_clusters=n)\n",
        "        hierarchical_labels = hierarchical.fit_predict(dataset)\n",
        "\n",
        "        # Apply Mean-Shift Clustering\n",
        "        mean_shift = MeanShift()\n",
        "        mean_shift_labels = mean_shift.fit_predict(dataset)\n",
        "\n",
        "        # Evaluate using metrics\n",
        "        for algorithm, labels in [\n",
        "            (\"K-Means\", kmeans_labels),\n",
        "            (\"Hierarchical\", hierarchical_labels),\n",
        "            (\"Mean-Shift\", mean_shift_labels),\n",
        "        ]:\n",
        "            silhouette = silhouette_score(dataset, labels)\n",
        "            calinski = calinski_harabasz_score(dataset, labels)\n",
        "            davies = davies_bouldin_score(dataset, labels)\n",
        "\n",
        "            # Append results\n",
        "            results.append({\n",
        "                \"Clusters\": n,\n",
        "                \"Preprocessing\": preprocessing,\n",
        "                \"Algorithm\": algorithm,\n",
        "                \"Silhouette Score\": round(silhouette, 2),\n",
        "                \"Calinski-Harabasz\": round(calinski, 2),\n",
        "                \"Davies-Bouldin\": round(davies, 2)\n",
        "            })\n"
      ],
      "metadata": {
        "id": "tx93B_ZymSW-"
      },
      "execution_count": 11,
      "outputs": []
    },
    {
      "cell_type": "code",
      "source": [
        "# Convert results to a DataFrame\n",
        "results_df = pd.DataFrame(results)\n",
        "print(\"Clustering Performance Results:\")\n",
        "print(results_df)\n",
        "\n",
        "# Save results to a CSV file\n",
        "results_df.to_csv(\"clustering_results.csv\", index=False)\n"
      ],
      "metadata": {
        "colab": {
          "base_uri": "https://localhost:8080/"
        },
        "id": "8Y3nkG9yuJlu",
        "outputId": "35d316dc-c7e2-4d2c-e389-049f6e00e901"
      },
      "execution_count": 12,
      "outputs": [
        {
          "output_type": "stream",
          "name": "stdout",
          "text": [
            "Clustering Performance Results:\n",
            "    Clusters        Preprocessing     Algorithm  Silhouette Score  \\\n",
            "0          3     No Preprocessing       K-Means              0.55   \n",
            "1          3     No Preprocessing  Hierarchical              0.55   \n",
            "2          3     No Preprocessing    Mean-Shift              0.69   \n",
            "3          3        Normalization       K-Means              0.48   \n",
            "4          3        Normalization  Hierarchical              0.45   \n",
            "5          3        Normalization    Mean-Shift              0.58   \n",
            "6          3                  PCA       K-Means              0.60   \n",
            "7          3                  PCA  Hierarchical              0.60   \n",
            "8          3                  PCA    Mean-Shift              0.71   \n",
            "9          3  Normalization + PCA       K-Means              0.52   \n",
            "10         3  Normalization + PCA  Hierarchical              0.51   \n",
            "11         3  Normalization + PCA    Mean-Shift              0.61   \n",
            "12         4     No Preprocessing       K-Means              0.50   \n",
            "13         4     No Preprocessing  Hierarchical              0.49   \n",
            "14         4     No Preprocessing    Mean-Shift              0.69   \n",
            "15         4        Normalization       K-Means              0.39   \n",
            "16         4        Normalization  Hierarchical              0.40   \n",
            "17         4        Normalization    Mean-Shift              0.58   \n",
            "18         4                  PCA       K-Means              0.56   \n",
            "19         4                  PCA  Hierarchical              0.54   \n",
            "20         4                  PCA    Mean-Shift              0.71   \n",
            "21         4  Normalization + PCA       K-Means              0.45   \n",
            "22         4  Normalization + PCA  Hierarchical              0.45   \n",
            "23         4  Normalization + PCA    Mean-Shift              0.61   \n",
            "24         5     No Preprocessing       K-Means              0.49   \n",
            "25         5     No Preprocessing  Hierarchical              0.48   \n",
            "26         5     No Preprocessing    Mean-Shift              0.69   \n",
            "27         5        Normalization       K-Means              0.35   \n",
            "28         5        Normalization  Hierarchical              0.33   \n",
            "29         5        Normalization    Mean-Shift              0.58   \n",
            "30         5                  PCA       K-Means              0.51   \n",
            "31         5                  PCA  Hierarchical              0.55   \n",
            "32         5                  PCA    Mean-Shift              0.71   \n",
            "33         5  Normalization + PCA       K-Means              0.41   \n",
            "34         5  Normalization + PCA  Hierarchical              0.40   \n",
            "35         5  Normalization + PCA    Mean-Shift              0.61   \n",
            "\n",
            "    Calinski-Harabasz  Davies-Bouldin  \n",
            "0              561.59            0.67  \n",
            "1              558.06            0.66  \n",
            "2              509.70            0.39  \n",
            "3              157.36            0.79  \n",
            "4              222.72            0.80  \n",
            "5              251.35            0.59  \n",
            "6              693.71            0.56  \n",
            "7              688.62            0.56  \n",
            "8              565.73            0.36  \n",
            "9              180.98            0.74  \n",
            "10             286.33            0.71  \n",
            "11             283.01            0.54  \n",
            "12             529.53            0.75  \n",
            "13             515.08            0.80  \n",
            "14             509.70            0.39  \n",
            "15             206.68            0.87  \n",
            "16             201.25            0.98  \n",
            "17             251.35            0.59  \n",
            "18             719.12            0.62  \n",
            "19             673.95            0.65  \n",
            "20             565.73            0.36  \n",
            "21             263.88            0.74  \n",
            "22             254.09            0.72  \n",
            "23             283.01            0.54  \n",
            "24             495.24            0.82  \n",
            "25             488.48            0.82  \n",
            "26             509.70            0.39  \n",
            "27             202.64            0.94  \n",
            "28             192.68            0.97  \n",
            "29             251.35            0.59  \n",
            "30             642.06            0.75  \n",
            "31             665.88            0.65  \n",
            "32             565.73            0.36  \n",
            "33             278.45            0.78  \n",
            "34             255.00            0.79  \n",
            "35             283.01            0.54  \n"
          ]
        }
      ]
    },
    {
      "cell_type": "code",
      "source": [
        "import seaborn as sns\n",
        "import matplotlib.pyplot as plt\n",
        "\n",
        "# Example: Visualize Silhouette Scores\n",
        "plt.figure(figsize=(10, 6))\n",
        "sns.barplot(data=results_df, x=\"Clusters\", y=\"Silhouette Score\", hue=\"Algorithm\")\n",
        "plt.title(\"Silhouette Score Comparison\")\n",
        "plt.show()\n"
      ],
      "metadata": {
        "colab": {
          "base_uri": "https://localhost:8080/",
          "height": 564
        },
        "id": "GCpuuQbzuKwc",
        "outputId": "3af7f2b7-f720-4887-d381-0e983690d0cc"
      },
      "execution_count": 13,
      "outputs": [
        {
          "output_type": "display_data",
          "data": {
            "text/plain": [
              "<Figure size 1000x600 with 1 Axes>"
            ],
            "image/png": "[encoded data removed]"
          },
          "metadata": {}
        }
      ]
    },
    {
      "cell_type": "code",
      "source": [
        "results_df.to_csv(\"clustering_results.csv\", index=False)\n"
      ],
      "metadata": {
        "id": "6wCu9Q53vwZs"
      },
      "execution_count": 14,
      "outputs": []
    }
  ]
}